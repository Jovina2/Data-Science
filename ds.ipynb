{
 "cells": [
  {
   "cell_type": "code",
   "execution_count": 19,
   "id": "d42d224c",
   "metadata": {},
   "outputs": [
    {
     "name": "stdout",
     "output_type": "stream",
     "text": [
      "Enter first number:5\n",
      "Enter second number:6\n",
      "Addition :11\n",
      "Subtraction :-1\n",
      "Multiplication :30\n",
      "Division :0.8333333333333334\n",
      "Modulus :5\n",
      "Exponent :15625\n"
     ]
    }
   ],
   "source": [
    "#Arthmetic operations\n",
    "num1=int(input(\"Enter first number:\"))\n",
    "num2=int(input(\"Enter second number:\"))\n",
    "print(f\"Addition :{num1 + num2}\")\n",
    "print(f\"Subtraction :{num1 - num2}\")\n",
    "print(f\"Multiplication :{num1 * num2}\")\n",
    "print(f\"Division :{num1 / num2}\")\n",
    "print(f\"Modulus :{num1 % num2}\")\n",
    "print(f\"Exponent :{num1 ** num2}\")"
   ]
  },
  {
   "cell_type": "code",
   "execution_count": 18,
   "id": "09fe69e7",
   "metadata": {},
   "outputs": [
    {
     "name": "stdout",
     "output_type": "stream",
     "text": [
      "Concatenation : python World\n",
      "Length : 12\n",
      "Uppercase : PYTHON WORLD\n",
      "Lowercase : python world\n",
      "Slice [0:5] : pytho\n"
     ]
    }
   ],
   "source": [
    "#String operations\n",
    "a=\"python\"\n",
    "b=\"World\"\n",
    "result=a+\" \"+b\n",
    "print(\"Concatenation :\",result)\n",
    "print(\"Length :\",len(result))\n",
    "print(\"Uppercase :\",result.upper())\n",
    "print(\"Lowercase :\",result.lower())\n",
    "print(\"Slice [0:5] :\",result[0:5])"
   ]
  },
  {
   "cell_type": "code",
   "execution_count": 17,
   "id": "95800a14",
   "metadata": {},
   "outputs": [
    {
     "name": "stdout",
     "output_type": "stream",
     "text": [
      "Set A : {1, 2, 3}\n",
      "Set B : {3, 4, 5}\n",
      "Union : {1, 2, 3, 4, 5}\n",
      "Intersection : {3}\n",
      "Difference : {1, 2}\n"
     ]
    }
   ],
   "source": [
    "#Set operations\n",
    "A={1,2,3}\n",
    "B={3,4,5}\n",
    "print(\"Set A :\",A)\n",
    "print(\"Set B :\",B)\n",
    "print(\"Union :\",A |B)\n",
    "print(\"Intersection :\",A & B)\n",
    "print(\"Difference :\",A - B)"
   ]
  },
  {
   "cell_type": "code",
   "execution_count": 25,
   "id": "9b2c2311",
   "metadata": {},
   "outputs": [
    {
     "name": "stdout",
     "output_type": "stream",
     "text": [
      "A AND B : World\n",
      "A OR B : python\n",
      "NOT B : False\n"
     ]
    }
   ],
   "source": [
    "#Boolean operations\n",
    "A=\"true\"\n",
    "B=\"false\"\n",
    "print(\"A AND B :\",a and b)\n",
    "print(\"A OR B :\",a or b)\n",
    "print(\"NOT B :\",not b)"
   ]
  },
  {
   "cell_type": "code",
   "execution_count": 20,
   "id": "78b84247",
   "metadata": {},
   "outputs": [
    {
     "name": "stdout",
     "output_type": "stream",
     "text": [
      "Original list : [3, 4, 6, 8]\n",
      "Length of list : 4\n",
      "First element of list : 3\n",
      "Last element of list : 8\n",
      "After append : [3, 4, 6, 8, 2]\n",
      "After remove : [3, 6, 8, 2]\n"
     ]
    }
   ],
   "source": [
    "#list operations\n",
    "list=[3,4,6,8]\n",
    "print(\"Original list :\",list)\n",
    "print(\"Length of list :\",len(list))\n",
    "print(\"First element of list :\",list[0])\n",
    "print(\"Last element of list :\",list[-1])\n",
    "list.append(2)\n",
    "print(\"After append :\",list)\n",
    "list.remove(4)\n",
    "print(\"After remove :\",list)"
   ]
  },
  {
   "cell_type": "code",
   "execution_count": 22,
   "id": "68cf6d83",
   "metadata": {},
   "outputs": [
    {
     "name": "stdout",
     "output_type": "stream",
     "text": [
      "Original dictionary: {'name': 'Joe', 'age': 20}\n",
      "Name: Joe\n",
      "Age: 20\n",
      "After adding city: {'name': 'Joe', 'age': 20, 'city': 'calicut'}\n"
     ]
    }
   ],
   "source": [
    "#Dictionary operations\n",
    "dict={\"name\":\"Joe\",\"age\":20}\n",
    "print(\"Original dictionary:\",dict)\n",
    "print(\"Name:\",dict[\"name\"])\n",
    "print(\"Age:\",dict[\"age\"])\n",
    "dict[\"city\"] = \"calicut\"\n",
    "print(\"After adding city:\",dict)"
   ]
  },
  {
   "cell_type": "code",
   "execution_count": null,
   "id": "faf2f590",
   "metadata": {},
   "outputs": [],
   "source": []
  }
 ],
 "metadata": {
  "kernelspec": {
   "display_name": "Python 3 (ipykernel)",
   "language": "python",
   "name": "python3"
  },
  "language_info": {
   "codemirror_mode": {
    "name": "ipython",
    "version": 3
   },
   "file_extension": ".py",
   "mimetype": "text/x-python",
   "name": "python",
   "nbconvert_exporter": "python",
   "pygments_lexer": "ipython3",
   "version": "3.11.5"
  }
 },
 "nbformat": 4,
 "nbformat_minor": 5
}
