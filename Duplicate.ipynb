{
 "cells": [
  {
   "cell_type": "code",
   "execution_count": 1,
   "id": "1c41c9af",
   "metadata": {},
   "outputs": [
    {
     "name": "stdout",
     "output_type": "stream",
     "text": [
      "List after removing duplicates : [10, 20, 30, 40, 50, 60]\n"
     ]
    }
   ],
   "source": [
    "data=[10,20,10,30,40,20,50,60]\n",
    "unique_data=[]\n",
    "for item in data:\n",
    "    if item not in unique_data:\n",
    "        unique_data.append(item)\n",
    "print(\"List after removing duplicates :\",unique_data)"
   ]
  },
  {
   "cell_type": "code",
   "execution_count": null,
   "id": "15db3ad2",
   "metadata": {},
   "outputs": [],
   "source": []
  }
 ],
 "metadata": {
  "kernelspec": {
   "display_name": "Python 3 (ipykernel)",
   "language": "python",
   "name": "python3"
  },
  "language_info": {
   "codemirror_mode": {
    "name": "ipython",
    "version": 3
   },
   "file_extension": ".py",
   "mimetype": "text/x-python",
   "name": "python",
   "nbconvert_exporter": "python",
   "pygments_lexer": "ipython3",
   "version": "3.11.5"
  }
 },
 "nbformat": 4,
 "nbformat_minor": 5
}
