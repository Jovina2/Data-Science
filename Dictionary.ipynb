{
 "cells": [
  {
   "cell_type": "code",
   "execution_count": 1,
   "id": "4e7dd859",
   "metadata": {},
   "outputs": [
    {
     "name": "stdout",
     "output_type": "stream",
     "text": [
      "Dictionary : {'a': 1, 'b': 2, 'c': 3}\n"
     ]
    }
   ],
   "source": [
    "a=(('a',1),('b',2),('c',3))\n",
    "result=dict(a)\n",
    "print(\"Dictionary :\",result)"
   ]
  },
  {
   "cell_type": "code",
   "execution_count": 2,
   "id": "556034f2",
   "metadata": {},
   "outputs": [
    {
     "name": "stdout",
     "output_type": "stream",
     "text": [
      "Merged dictionary : {'a': 1, 'b': 2, 'c': 3, 'd': 4}\n"
     ]
    }
   ],
   "source": [
    "dict1={'a':1,'b':2}\n",
    "dict2={'c':3,'d':4}\n",
    "dict1.update(dict2)\n",
    "print(\"Merged dictionary :\",dict1)"
   ]
  }
 ],
 "metadata": {
  "kernelspec": {
   "display_name": "Python 3 (ipykernel)",
   "language": "python",
   "name": "python3"
  },
  "language_info": {
   "codemirror_mode": {
    "name": "ipython",
    "version": 3
   },
   "file_extension": ".py",
   "mimetype": "text/x-python",
   "name": "python",
   "nbconvert_exporter": "python",
   "pygments_lexer": "ipython3",
   "version": "3.11.5"
  }
 },
 "nbformat": 4,
 "nbformat_minor": 5
}
