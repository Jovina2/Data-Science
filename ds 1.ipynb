{
 "cells": [
  {
   "cell_type": "code",
   "execution_count": 2,
   "id": "5e1d8627",
   "metadata": {
    "scrolled": false
   },
   "outputs": [
    {
     "name": "stdout",
     "output_type": "stream",
     "text": [
      "Addition:\n",
      " [[ 6  8]\n",
      " [10 12]]\n",
      "\n",
      "Subtraction:\n",
      " [[-4 -4]\n",
      " [-4 -4]]\n",
      "\n",
      "Multiplication:\n",
      " [[ 5 12]\n",
      " [21 32]]\n",
      "\n",
      "Division:\n",
      " [[0.2        0.33333333]\n",
      " [0.42857143 0.5       ]]\n",
      "\n",
      "Dot Product:\n",
      " [[19 22]\n",
      " [43 50]]\n",
      "\n",
      "Transpose of A:\n",
      " [[1 3]\n",
      " [2 4]]\n",
      "\n",
      "Transpose of B:\n",
      " [[5 7]\n",
      " [6 8]]\n"
     ]
    }
   ],
   "source": [
    "import numpy as np\n",
    "A=np.array([[1,2],[3,4]])\n",
    "B=np.array([[5,6],[7,8]])\n",
    "addition=A+B\n",
    "print(\"Addition:\\n\",addition)\n",
    "subtraction=A-B\n",
    "print(\"\\nSubtraction:\\n\",subtraction)\n",
    "multiplication=A*B\n",
    "print(\"\\nMultiplication:\\n\",multiplication)\n",
    "division=A/B\n",
    "print(\"\\nDivision:\\n\",division)\n",
    "dot_product=np.dot(A,B)\n",
    "print(\"\\nDot Product:\\n\",dot_product)\n",
    "transpose_A=A.T\n",
    "print(\"\\nTranspose of A:\\n\",transpose_A)\n",
    "transpose_B=B.T\n",
    "print(\"\\nTranspose of B:\\n\",transpose_B)"
   ]
  },
  {
   "cell_type": "code",
   "execution_count": null,
   "id": "7e58a609",
   "metadata": {},
   "outputs": [],
   "source": [
    "\n"
   ]
  }
 ],
 "metadata": {
  "kernelspec": {
   "display_name": "Python 3 (ipykernel)",
   "language": "python",
   "name": "python3"
  },
  "language_info": {
   "codemirror_mode": {
    "name": "ipython",
    "version": 3
   },
   "file_extension": ".py",
   "mimetype": "text/x-python",
   "name": "python",
   "nbconvert_exporter": "python",
   "pygments_lexer": "ipython3",
   "version": "3.11.5"
  }
 },
 "nbformat": 4,
 "nbformat_minor": 5
}
